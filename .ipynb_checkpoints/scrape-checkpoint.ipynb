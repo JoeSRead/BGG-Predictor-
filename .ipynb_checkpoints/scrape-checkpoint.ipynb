{
 "cells": [
  {
   "cell_type": "markdown",
   "metadata": {},
   "source": [
    "This notebook is for scraping"
   ]
  },
  {
   "cell_type": "code",
   "execution_count": 4,
   "metadata": {},
   "outputs": [],
   "source": [
    "import csv\n",
    "import pandas as pd"
   ]
  },
  {
   "cell_type": "code",
   "execution_count": 6,
   "metadata": {},
   "outputs": [
    {
     "data": {
      "text/plain": [
       "0         174430\n",
       "1         161936\n",
       "2         167791\n",
       "3         182028\n",
       "4         224517\n",
       "           ...  \n",
       "112831    297783\n",
       "112832    297784\n",
       "112833    297785\n",
       "112834    297786\n",
       "112835    297787\n",
       "Name: id, Length: 112836, dtype: int64"
      ]
     },
     "execution_count": 6,
     "metadata": {},
     "output_type": "execute_result"
    }
   ],
   "source": [
    "pd.DataFrame(pd.read_csv('items.csv'))['id']"
   ]
  },
  {
   "cell_type": "code",
   "execution_count": 7,
   "metadata": {},
   "outputs": [
    {
     "name": "stdout",
     "output_type": "stream",
     "text": [
      "Requesting http://www.boardgamegeek.com/xmlapi2/thing?id=174430&stats=1\n"
     ]
    }
   ],
   "source": [
    "import csv\n",
    "import time\n",
    "\n",
    "import requests\n",
    "from bs4 import BeautifulSoup\n",
    "\n",
    "\n",
    "def get_val(tag, term):\n",
    "    try:\n",
    "        val = tag.find(term)['value'].encode('ascii', 'ignore')\n",
    "    except:\n",
    "        val = 'NaN'\n",
    "    return val\n",
    "\n",
    "\n",
    "base = 'http://www.boardgamegeek.com/xmlapi2/thing?id={}&stats=1'\n",
    "with open('ids.txt') as f:\n",
    "    ids = [line.strip() for line in f.readlines()]\n",
    "split = 30\n",
    "f = open('games.csv', 'w')\n",
    "writer = csv.writer(f)\n",
    "writer.writerow(('id', 'type', 'name', 'yearpublished', 'minplayers', 'maxplayers', 'playingtime',\n",
    "                 'minplaytime', 'maxplaytime', 'minage', 'users_rated', 'average_rating',\n",
    "                 'bayes_average_rating', 'total_owners', 'total_traders', 'total_wanters',\n",
    "                 'total_wishers', 'total_comments', 'total_weights', 'average_weight'))\n",
    "for i in range(0, len(ids), split):\n",
    "    url = base.format(','.join(ids[i:i+split]))\n",
    "    print('Requesting {}'.format(url))\n",
    "    req = requests.get(url)\n",
    "    soup = BeautifulSoup(req.content, 'xml')\n",
    "    items = soup.find_all('item')\n",
    "    for item in items:\n",
    "        gid = item['id']\n",
    "        gtype = item['type']\n",
    "        gname = get_val(item, 'name')\n",
    "        gyear = get_val(item, 'yearpublished')\n",
    "        gmin = get_val(item, 'minplayers')\n",
    "        gmax = get_val(item, 'maxplayers')\n",
    "        gplay = get_val(item, 'playingtime')\n",
    "        gminplay = get_val(item, 'minplaytime')\n",
    "        gmaxplay = get_val(item, 'maxplaytime')\n",
    "        gminage = get_val(item, 'minage')\n",
    "        usersrated = get_val(item.statistics.ratings, 'usersrated')\n",
    "        avg = get_val(item.statistics.ratings, 'average')\n",
    "        bayesavg = get_val(item.statistics.ratings, 'bayesaverage')\n",
    "        owners = get_val(item.statistics.ratings, 'owned')\n",
    "        traders = get_val(item.statistics.ratings, 'trading')\n",
    "        wanters = get_val(item.statistics.ratings, 'wanting')\n",
    "        wishers = get_val(item.statistics.ratings, 'wishing')\n",
    "        numcomments = get_val(item.statistics.ratings, 'numcomments')\n",
    "        numweights = get_val(item.statistics.ratings, 'numweights')\n",
    "        avgweight = get_val(item.statistics.ratings, 'averageweight')\n",
    "        # desc = item.description.text.encode('ascii', 'ignore')\n",
    "        writer.writerow((gid, gtype, gname, gyear, gmin, gmax, gplay, gminplay, gmaxplay, gminage,\n",
    "                         usersrated, avg, bayesavg, owners, traders, wanters, wishers, numcomments,\n",
    "                         numweights, avgweight))\n",
    "    time.sleep(2)\n",
    "f.close()"
   ]
  },
  {
   "cell_type": "code",
   "execution_count": 8,
   "metadata": {},
   "outputs": [
    {
     "data": {
      "text/html": [
       "<div>\n",
       "<style scoped>\n",
       "    .dataframe tbody tr th:only-of-type {\n",
       "        vertical-align: middle;\n",
       "    }\n",
       "\n",
       "    .dataframe tbody tr th {\n",
       "        vertical-align: top;\n",
       "    }\n",
       "\n",
       "    .dataframe thead th {\n",
       "        text-align: right;\n",
       "    }\n",
       "</style>\n",
       "<table border=\"1\" class=\"dataframe\">\n",
       "  <thead>\n",
       "    <tr style=\"text-align: right;\">\n",
       "      <th></th>\n",
       "      <th>id</th>\n",
       "      <th>type</th>\n",
       "      <th>name</th>\n",
       "      <th>yearpublished</th>\n",
       "      <th>minplayers</th>\n",
       "      <th>maxplayers</th>\n",
       "      <th>playingtime</th>\n",
       "      <th>minplaytime</th>\n",
       "      <th>maxplaytime</th>\n",
       "      <th>minage</th>\n",
       "      <th>users_rated</th>\n",
       "      <th>average_rating</th>\n",
       "      <th>bayes_average_rating</th>\n",
       "      <th>total_owners</th>\n",
       "      <th>total_traders</th>\n",
       "      <th>total_wanters</th>\n",
       "      <th>total_wishers</th>\n",
       "      <th>total_comments</th>\n",
       "      <th>total_weights</th>\n",
       "      <th>average_weight</th>\n",
       "    </tr>\n",
       "  </thead>\n",
       "  <tbody>\n",
       "    <tr>\n",
       "      <td>0</td>\n",
       "      <td>174430</td>\n",
       "      <td>boardgame</td>\n",
       "      <td>b'Gloomhaven'</td>\n",
       "      <td>b'2017'</td>\n",
       "      <td>b'1'</td>\n",
       "      <td>b'4'</td>\n",
       "      <td>b'120'</td>\n",
       "      <td>b'60'</td>\n",
       "      <td>b'120'</td>\n",
       "      <td>b'12'</td>\n",
       "      <td>b'30949'</td>\n",
       "      <td>b'8.85326'</td>\n",
       "      <td>b'8.5848'</td>\n",
       "      <td>b'50394'</td>\n",
       "      <td>b'310'</td>\n",
       "      <td>b'1359'</td>\n",
       "      <td>b'13705'</td>\n",
       "      <td>b'5925'</td>\n",
       "      <td>b'1299'</td>\n",
       "      <td>b'3.8068'</td>\n",
       "    </tr>\n",
       "  </tbody>\n",
       "</table>\n",
       "</div>"
      ],
      "text/plain": [
       "       id       type           name yearpublished minplayers maxplayers  \\\n",
       "0  174430  boardgame  b'Gloomhaven'       b'2017'       b'1'       b'4'   \n",
       "\n",
       "  playingtime minplaytime maxplaytime minage users_rated average_rating  \\\n",
       "0      b'120'       b'60'      b'120'  b'12'    b'30949'     b'8.85326'   \n",
       "\n",
       "  bayes_average_rating total_owners total_traders total_wanters total_wishers  \\\n",
       "0            b'8.5848'     b'50394'        b'310'       b'1359'      b'13705'   \n",
       "\n",
       "  total_comments total_weights average_weight  \n",
       "0        b'5925'       b'1299'      b'3.8068'  "
      ]
     },
     "execution_count": 8,
     "metadata": {},
     "output_type": "execute_result"
    }
   ],
   "source": [
    "pd.DataFrame(pd.read_csv('games.csv'))"
   ]
  },
  {
   "cell_type": "code",
   "execution_count": null,
   "metadata": {},
   "outputs": [],
   "source": []
  }
 ],
 "metadata": {
  "kernelspec": {
   "display_name": "Python [conda env:learn-env] *",
   "language": "python",
   "name": "conda-env-learn-env-py"
  },
  "language_info": {
   "codemirror_mode": {
    "name": "ipython",
    "version": 3
   },
   "file_extension": ".py",
   "mimetype": "text/x-python",
   "name": "python",
   "nbconvert_exporter": "python",
   "pygments_lexer": "ipython3",
   "version": "3.6.9"
  }
 },
 "nbformat": 4,
 "nbformat_minor": 4
}
